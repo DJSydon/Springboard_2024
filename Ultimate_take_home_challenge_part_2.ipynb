{
 "cells": [
  {
   "cell_type": "markdown",
   "id": "7a9e9019-7045-4e70-a63a-2c98b10d9546",
   "metadata": {},
   "source": [
    "# Ultimate Take Home Challenge Part 2 - Experiment and Metrc Designs"
   ]
  },
  {
   "cell_type": "markdown",
   "id": "7e6ca1fc-b039-4738-b7ca-41c2b017f1bc",
   "metadata": {},
   "source": [
    "1) What would you choose as the key measure of success of this experiment in\r\n",
    "encouraging driver partners to serve both cities, and why would you choose this metric?- I would choose the number of cross-city trips taken by driver partners per driver per week.\n",
    "- The metric captures **adoption** (answering if drivers are making at least one crossing) and **intensity** (how often they are crossing and serving both cities).\r"
   ]
  },
  {
   "cell_type": "markdown",
   "id": "5bfb693a-19b3-4241-973e-1ab4917844c0",
   "metadata": {},
   "source": [
    "2) Describe a practical experiment you would design to compare the effectiveness of the\r\n",
    "proposed change in relation to the key measure of success. Please provide details on\n",
    "\n",
    "- a) How you will implement the experiment?\n",
    "    - I would randomly select a subset of a few thousand driver-partners from each city, randomly placing half of them in either the:\n",
    "        - **Treatment group** where they would receive a letter from their respective city with either a car sticker that will send the toll bill to the city to pay or a form for the drivers to fill out at the end of the expirement's timeframe to send back to the city with their collected toll bills so that the city could cut out the necessary checks.\n",
    "          \n",
    "          **or**\n",
    "        - **Control group** of randomly selected drivers who's who won't receive toll reimbursements.\n",
    "    - The **duration** of the experiment would last for 2-3 months to help capture variations in events, traffic, and weather activities. As well as detect sustained behavioral changes rather than short-term spikes.\n",
    "    - We will track **data** such as bridge crossing data (via toll data, GPS, or app logs), time and direction of travel, driver IDs to associate with the groups, and city where the trip began and ended.\n",
    "    - There should be **ethical considerations** such that the teatment group needs to be told that they are part of an experiment to induce behavior change, but to keep the control group in the dark to prevent contamination of the experiment.:"
   ]
  },
  {
   "cell_type": "markdown",
   "id": "ddf809b3-68f9-45b7-a4ad-1180c757524b",
   "metadata": {},
   "source": [
    "- b) What statistical test(s) you will conduct to verify the significance of the \n",
    "observatio?\n",
    "    - This would be a **one-tailed**, **two-sample**, **t-test** to compare the average number of cross-city trips per driver between the treatment and control groups with a significance level of alpha = 0.05. \r"
   ]
  },
  {
   "cell_type": "markdown",
   "id": "3eee0216-2486-44b7-94ba-38c15fa9ee6a",
   "metadata": {},
   "source": [
    "- c) How you would interpret the results and provide recommendations to the city \n",
    "operations team along with any caveat?\n",
    "    - If p < 0.05 then I would conclude that toll reimbursement positively impacts driver behavior and encourages greater mobility betweeen Gotham and Metropolis.\n",
    "        - We'd expand to additional driver cohorts in both cities, monitor beidge traffic to adjust incentives, and possibly integrate app nudges to encourage off-peak cross-city trips to balance load. \n",
    "    - If p > 0.05 we won't conlude the program's ineffectiveness because it may mean the effect was too small to detect or obscured by other confounding variables like weather, holiday season, or local events like sports games or theatre performances.\n",
    "    - Adjust the testing period to account for seasonality or other external influences, possibly do partial toll subsidies or time-of-the-day incentives (free crrossings at off-peak hours), or conduct follow-up surveys to understand driver behavior and perception.\r"
   ]
  }
 ],
 "metadata": {
  "kernelspec": {
   "display_name": "Python 3 (ipykernel)",
   "language": "python",
   "name": "python3"
  },
  "language_info": {
   "codemirror_mode": {
    "name": "ipython",
    "version": 3
   },
   "file_extension": ".py",
   "mimetype": "text/x-python",
   "name": "python",
   "nbconvert_exporter": "python",
   "pygments_lexer": "ipython3",
   "version": "3.12.3"
  }
 },
 "nbformat": 4,
 "nbformat_minor": 5
}
